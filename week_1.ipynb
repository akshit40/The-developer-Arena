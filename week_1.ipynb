{
  "nbformat": 4,
  "nbformat_minor": 0,
  "metadata": {
    "colab": {
      "provenance": []
    },
    "kernelspec": {
      "name": "python3",
      "display_name": "Python 3"
    },
    "language_info": {
      "name": "python"
    }
  },
  "cells": [
    {
      "cell_type": "code",
      "execution_count": 1,
      "metadata": {
        "id": "UFdCVFInJnSi"
      },
      "outputs": [],
      "source": [
        "import csv\n"
      ]
    },
    {
      "cell_type": "code",
      "source": [
        "try:\n",
        "    with open(FILE_PATH, mode='r', encoding='utf-8') as file:\n",
        "        csv_reader = csv.reader(file)\n",
        "\n",
        "        # Read the header to find column indices\n",
        "        header = next(csv_reader)\n",
        "        price_index = header.index('price')\n",
        "        borough_index = header.index('neighbourhood_group')\n",
        "\n",
        "        print(f\"Header: {header}\\n\")\n",
        "        print(\"--- Checking the first 10 listings for affordable options (< $100) ---\")\n",
        "\n",
        "        for i, row in enumerate(csv_reader):\n",
        "            if i >= 10:\n",
        "                break\n",
        "\n",
        "            price = int(row[price_index])\n",
        "            borough = row[borough_index]\n",
        "\n",
        "            if price < 100:\n",
        "                print(f\"Row {i+1}: Found an affordable listing in {borough} for ${price}.\")\n",
        "            else:\n",
        "                print(f\"Row {i+1}: Listing in {borough} costs ${price}.\")\n",
        "\n",
        "except Exception as e:\n",
        "    print(f\"An error occurred: {e}\")"
      ],
      "metadata": {
        "colab": {
          "base_uri": "https://localhost:8080/"
        },
        "id": "V5MX0RHkKCQv",
        "outputId": "a1af00f5-34f4-4866-91c1-483ac02bcb8b"
      },
      "execution_count": 7,
      "outputs": [
        {
          "output_type": "stream",
          "name": "stdout",
          "text": [
            "Header: ['id', 'name', 'host_id', 'host_name', 'neighbourhood_group', 'neighbourhood', 'latitude', 'longitude', 'room_type', 'price', 'minimum_nights', 'number_of_reviews', 'last_review', 'reviews_per_month', 'calculated_host_listings_count', 'availability_365']\n",
            "\n",
            "--- Checking the first 10 listings for affordable options (< $100) ---\n",
            "Row 1: Listing in Brooklyn costs $149.\n",
            "Row 2: Listing in Manhattan costs $225.\n",
            "Row 3: Listing in Manhattan costs $150.\n",
            "Row 4: Found an affordable listing in Brooklyn for $89.\n",
            "Row 5: Found an affordable listing in Manhattan for $80.\n",
            "Row 6: Listing in Manhattan costs $200.\n",
            "Row 7: Found an affordable listing in Brooklyn for $60.\n",
            "Row 8: Found an affordable listing in Manhattan for $79.\n",
            "Row 9: Found an affordable listing in Manhattan for $79.\n",
            "Row 10: Listing in Manhattan costs $150.\n"
          ]
        }
      ]
    },
    {
      "cell_type": "code",
      "source": [
        "FILE_PATH = 'AB_NYC_2019.csv'"
      ],
      "metadata": {
        "id": "3OSQMMUdJ-D8"
      },
      "execution_count": 2,
      "outputs": []
    },
    {
      "cell_type": "code",
      "source": [
        "FILE_PATH = 'AB_NYC_2019.csv'\n",
        "\n",
        "try:\n",
        "    with open(FILE_PATH, mode='r', encoding='utf-8') as file:\n",
        "        csv_reader = csv.reader(file)\n",
        "\n",
        "        # Read the header to find column indices\n",
        "        header = next(csv_reader)\n",
        "        price_index = header.index('price')\n",
        "        borough_index = header.index('neighbourhood_group')\n",
        "\n",
        "        print(f\"Header: {header}\\n\")\n",
        "        print(\"--- Checking the first 10 listings for affordable options (< $100) ---\")\n",
        "\n",
        "        # Loop through the first 10 data rows\n",
        "        for i, row in enumerate(csv_reader):\n",
        "            if i >= 10:\n",
        "                break\n",
        "\n",
        "            price = int(row[price_index])\n",
        "            borough = row[borough_index]\n",
        "\n",
        "            if price < 100:\n",
        "                print(f\"Row {i+1}: Found an affordable listing in {borough} for ${price}.\")\n",
        "            else:\n",
        "                print(f\"Row {i+1}: Listing in {borough} costs ${price}.\")\n",
        "\n",
        "except FileNotFoundError:\n",
        "    print(f\"Error: The file '{FILE_PATH}' was not found. Please check the name and location.\")"
      ],
      "metadata": {
        "colab": {
          "base_uri": "https://localhost:8080/"
        },
        "id": "if8pEFhsKCTw",
        "outputId": "e9a21639-1dd3-4c59-b38c-6d251a120af5"
      },
      "execution_count": 8,
      "outputs": [
        {
          "output_type": "stream",
          "name": "stdout",
          "text": [
            "Header: ['id', 'name', 'host_id', 'host_name', 'neighbourhood_group', 'neighbourhood', 'latitude', 'longitude', 'room_type', 'price', 'minimum_nights', 'number_of_reviews', 'last_review', 'reviews_per_month', 'calculated_host_listings_count', 'availability_365']\n",
            "\n",
            "--- Checking the first 10 listings for affordable options (< $100) ---\n",
            "Row 1: Listing in Brooklyn costs $149.\n",
            "Row 2: Listing in Manhattan costs $225.\n",
            "Row 3: Listing in Manhattan costs $150.\n",
            "Row 4: Found an affordable listing in Brooklyn for $89.\n",
            "Row 5: Found an affordable listing in Manhattan for $80.\n",
            "Row 6: Listing in Manhattan costs $200.\n",
            "Row 7: Found an affordable listing in Brooklyn for $60.\n",
            "Row 8: Found an affordable listing in Manhattan for $79.\n",
            "Row 9: Found an affordable listing in Manhattan for $79.\n",
            "Row 10: Listing in Manhattan costs $150.\n"
          ]
        }
      ]
    },
    {
      "cell_type": "code",
      "source": [],
      "metadata": {
        "id": "n8lsAfF_KCWr"
      },
      "execution_count": null,
      "outputs": []
    },
    {
      "cell_type": "code",
      "source": [],
      "metadata": {
        "id": "vmuQDN1GKCZi"
      },
      "execution_count": null,
      "outputs": []
    },
    {
      "cell_type": "code",
      "source": [],
      "metadata": {
        "id": "U02XDy91KCcG"
      },
      "execution_count": null,
      "outputs": []
    },
    {
      "cell_type": "code",
      "source": [],
      "metadata": {
        "id": "pIcAF3lHKCe1"
      },
      "execution_count": null,
      "outputs": []
    }
  ]
}