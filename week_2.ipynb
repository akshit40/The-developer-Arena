{
  "nbformat": 4,
  "nbformat_minor": 0,
  "metadata": {
    "colab": {
      "provenance": []
    },
    "kernelspec": {
      "name": "python3",
      "display_name": "Python 3"
    },
    "language_info": {
      "name": "python"
    }
  },
  "cells": [
    {
      "cell_type": "code",
      "execution_count": 1,
      "metadata": {
        "id": "UFdCVFInJnSi"
      },
      "outputs": [],
      "source": [
        "import csv\n"
      ]
    },
    {
      "cell_type": "code",
      "source": [
        "FILE_PATH = 'AB_NYC_2019.csv'"
      ],
      "metadata": {
        "id": "3OSQMMUdJ-D8"
      },
      "execution_count": 2,
      "outputs": []
    },
    {
      "cell_type": "code",
      "source": [
        "def load_data(path):\n",
        "    \"\"\"Loads the Airbnb CSV into a list of dictionaries.\"\"\"\n",
        "    data = []\n",
        "    with open(path, mode='r', encoding='utf-8') as file:\n",
        "        csv_reader = csv.DictReader(file)\n",
        "        for row in csv_reader:\n",
        "            try: # Handle potential errors if price is not a valid number\n",
        "                row['price'] = int(row['price'])\n",
        "                data.append(row)\n",
        "            except (ValueError, TypeError):\n",
        "                continue # Skip rows with invalid price data\n",
        "    return data\n",
        "\n",
        "def calculate_avg_price(data, borough):\n",
        "    \"\"\"Calculates the average price for a specific borough.\"\"\"\n",
        "    prices = [row['price'] for row in data if row['neighbourhood_group'] == borough]\n",
        "    return sum(prices) / len(prices) if prices else 0\n",
        "\n",
        "def count_room_types(data):\n",
        "    \"\"\"Counts the number of listings for each room type.\"\"\"\n",
        "    counts = {}\n",
        "    for row in data:\n",
        "        room_type = row['room_type']\n",
        "        counts[room_type] = counts.get(room_type, 0) + 1\n",
        "    return counts\n"
      ],
      "metadata": {
        "id": "n8lsAfF_KCWr"
      },
      "execution_count": 9,
      "outputs": []
    },
    {
      "cell_type": "code",
      "source": [],
      "metadata": {
        "id": "vmuQDN1GKCZi"
      },
      "execution_count": null,
      "outputs": []
    },
    {
      "cell_type": "code",
      "source": [
        "airbnb_data = load_data(FILE_PATH)\n",
        "print(f\"Loaded {len(airbnb_data)} listings.\\n\")\n",
        "\n",
        "avg_price_brooklyn = calculate_avg_price(airbnb_data, 'Brooklyn')\n",
        "print(f\"Average price in Brooklyn: ${avg_price_brooklyn:.2f}\\n\")\n",
        "\n",
        "room_type_counts = count_room_types(airbnb_data)\n",
        "print(\"Room Type Distribution:\")\n",
        "for room_type, count in room_type_counts.items():\n",
        "    print(f\"- {room_type}: {count}\")"
      ],
      "metadata": {
        "colab": {
          "base_uri": "https://localhost:8080/"
        },
        "id": "U02XDy91KCcG",
        "outputId": "eee6edb9-68e2-400c-b374-c92c60268d43"
      },
      "execution_count": 10,
      "outputs": [
        {
          "output_type": "stream",
          "name": "stdout",
          "text": [
            "Loaded 48895 listings.\n",
            "\n",
            "Average price in Brooklyn: $124.38\n",
            "\n",
            "Room Type Distribution:\n",
            "- Private room: 22326\n",
            "- Entire home/apt: 25409\n",
            "- Shared room: 1160\n"
          ]
        }
      ]
    },
    {
      "cell_type": "code",
      "source": [],
      "metadata": {
        "id": "pIcAF3lHKCe1"
      },
      "execution_count": null,
      "outputs": []
    }
  ]
}